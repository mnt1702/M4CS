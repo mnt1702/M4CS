{
  "cells": [
    {
      "cell_type": "markdown",
      "metadata": {
        "id": "9NFhFNqfk9j6"
      },
      "source": [
        "Full Name: Mai Nhất Tùng\n",
        "\n",
        "Student ID: 21520523"
      ]
    },
    {
      "cell_type": "markdown",
      "metadata": {
        "id": "1Gb0yc6EnPok"
      },
      "source": [
        "**Experiment Requirements (for all datasets)**\n",
        "- Train - test splitting ratio = 7:3.\n",
        "- Random_state = 'Your Student ID'.\n",
        "- Experiment with **Gradient Descent** (*max_iter = 200*, *learning_rate (eta)* is set by yourself) and **Normal Equation**.\n",
        "- Visualize the cost trend (only for Gradient Descent)\n",
        "- Evaluation Metric: **R2 score**.\n",
        "- After completing all requirements, click on ‘Runtime’ and choose ‘Restart and run all’.\n",
        "- If the code is run without any errors (and the results are the same as before re-running), download the .ipybn file and submit. \n",
        "Otherwise, check the code carefully.\n"
      ]
    },
    {
      "cell_type": "markdown",
      "metadata": {
        "id": "g9CgxY0ph1iF"
      },
      "source": [
        "# Fish Dataset"
      ]
    },
    {
      "cell_type": "markdown",
      "metadata": {
        "id": "wME5TQSziZPP"
      },
      "source": [
        "🐟🐟 **Dataset Information (fish.csv)** 🐟🐟\n",
        "- Weight: Weight of fish in gram\n",
        "- Length1: Vertical length in cm\n",
        "- Length2: Diagonal length in cm\n",
        "- Length3: Cross length in cm\n",
        "- Height: Height in cm\n",
        "- Width: Diagonal width in cm"
      ]
    },
    {
      "cell_type": "markdown",
      "metadata": {
        "id": "pj2frDFyistE"
      },
      "source": [
        "📚📚 **Problem Requirement** 📚📚\n",
        "\n",
        "Use all remaining attributes to estimate the **weight** of fish.\n"
      ]
    },
    {
      "cell_type": "markdown",
      "metadata": {
        "id": "-7KQpJK5kMHQ"
      },
      "source": [
        "**Note**: Try to make the Gradient Descent achieving the comparable performance to the Normal Equation model. ✌✌\n",
        "\n",
        "**Hint**💡: Apply (suitable) techniques in Data Preprocessing tutorial file."
      ]
    },
    {
      "cell_type": "markdown",
      "metadata": {
        "id": "pj2frDFyistE"
      },
      "source": [
        "**Download file .csv**\n"
      ]
    },
    {
      "cell_type": "code",
      "execution_count": 1,
      "metadata": {},
      "outputs": [
        {
          "name": "stderr",
          "output_type": "stream",
          "text": [
            "  % Total    % Received % Xferd  Average Speed   Time    Time     Time  Current\n",
            "                                 Dload  Upload   Total   Spent    Left  Speed\n",
            "\n",
            "  0     0    0     0    0     0      0      0 --:--:-- --:--:-- --:--:--     0\n",
            "100  5483  100  5483    0     0  31488      0 --:--:-- --:--:-- --:--:-- 31877\n",
            "  % Total    % Received % Xferd  Average Speed   Time    Time     Time  Current\n",
            "                                 Dload  Upload   Total   Spent    Left  Speed\n",
            "\n",
            "  0     0    0     0    0     0      0      0 --:--:-- --:--:-- --:--:--     0\n",
            "  0     0    0     0    0     0      0      0 --:--:-- --:--:-- --:--:--     0\n",
            "100 55628  100 55628    0     0   204k      0 --:--:-- --:--:-- --:--:--  207k\n",
            "  % Total    % Received % Xferd  Average Speed   Time    Time     Time  Current\n",
            "                                 Dload  Upload   Total   Spent    Left  Speed\n",
            "\n",
            "  0     0    0     0    0     0      0      0 --:--:-- --:--:-- --:--:--     0\n",
            "100  108k  100  108k    0     0   465k      0 --:--:-- --:--:-- --:--:--  469k\n"
          ]
        }
      ],
      "source": [
        "!curl https://media.githubusercontent.com/media/mnt1702/M4CS/main/Assign_2/Data/fish.csv> fish.csv\n",
        "!curl https://media.githubusercontent.com/media/mnt1702/M4CS/main/Assign_2/Data/insurance.csv > insurance.csv\n",
        "!curl https://media.githubusercontent.com/media/mnt1702/M4CS/main/Assign_2/Data/tesla_stock.csv > tesla_stock.csv"
      ]
    },
    {
      "cell_type": "markdown",
      "metadata": {
        "id": "b74tCqMvxu7J"
      },
      "source": [
        "**Import lib**"
      ]
    },
    {
      "cell_type": "code",
      "execution_count": 2,
      "metadata": {
        "id": "XEV_-mCoqV8z"
      },
      "outputs": [],
      "source": [
        "import numpy as np\n",
        "import pandas as pd\n",
        "from sklearn.model_selection import train_test_split\n",
        "from sklearn.preprocessing import StandardScaler\n",
        "import matplotlib.pyplot as plt\n",
        "from sklearn.metrics import r2_score as R2"
      ]
    },
    {
      "cell_type": "markdown",
      "metadata": {
        "id": "DC_-YPI6xzl8"
      },
      "source": [
        "**Model Regression with Gradient Descent and Normal Equation**"
      ]
    },
    {
      "cell_type": "code",
      "execution_count": 3,
      "metadata": {
        "id": "Lo7aQteaXNcy"
      },
      "outputs": [],
      "source": [
        "class LinearRegression_GD:\n",
        "  def __init__ (self, eta = 0.001, max_iter = 20, random_state = 42):\n",
        "    self.eta = eta\n",
        "    self.max_iter = max_iter\n",
        "    self.random_state = random_state\n",
        "    self.w = None\n",
        "    self.costs = []\n",
        "  def predict(self, X):\n",
        "    X_new = np.concatenate((np.ones((X.shape[0], 1)), X), axis = 1)\n",
        "    return np.dot(X_new, self.w)\n",
        "  def fit(self, X, y):\n",
        "    X_new = np.concatenate((np.ones((X.shape[0], 1)), X), axis = 1)\n",
        "    rgen = np.random.RandomState(self.random_state)\n",
        "    self.w = rgen.normal(loc = 0.0, scale = 0.1, size = 1 + X.shape[1])\n",
        "    self.w[0] = 0\n",
        "    self.costs = [ ]\n",
        "    for n_iters in range (self.max_iter):\n",
        "      y_pred = np.dot(X_new, self.w)\n",
        "      diff = y - y_pred\n",
        "      self.w += self.eta * np.dot(X_new.T, diff)/X_new.shape[0]\n",
        "      cost = np.mean(diff ** 2) / 2\n",
        "      self.costs.append(cost)\n",
        "\n",
        "class LinearRegression_NE:\n",
        "  def __init__(self):\n",
        "    self.w = None\n",
        "  def predict(self, X):\n",
        "    X_new = np.concatenate((np.ones((X.shape[0], 1)), X), axis = 1)\n",
        "    return np.dot(X_new, self.w)\n",
        "  def fit(self, X, y):\n",
        "    X_new = np.concatenate((np.ones((X.shape[0], 1)), X), axis = 1)\n",
        "    self.w = np.linalg.inv(X_new.T @ X_new) @ X_new.T @ y"
      ]
    },
    {
      "cell_type": "markdown",
      "metadata": {
        "id": "ja3snjFW1CCE"
      },
      "source": [
        "**Load data & Preprocessing**"
      ]
    },
    {
      "cell_type": "code",
      "execution_count": 4,
      "metadata": {
        "colab": {
          "base_uri": "https://localhost:8080/"
        },
        "id": "qKZCpzgWHH0S",
        "outputId": "cfe561c3-d93b-4802-d0c1-0091002a0772"
      },
      "outputs": [
        {
          "data": {
            "text/plain": [
              "Series([], dtype: int64)"
            ]
          },
          "execution_count": 4,
          "metadata": {},
          "output_type": "execute_result"
        }
      ],
      "source": [
        "data_fish = pd.read_csv('./fish.csv')\n",
        "countNan = data_fish.isna().sum()\n",
        "null_columns = countNan[countNan > 0]\n",
        "null_columns"
      ]
    },
    {
      "cell_type": "code",
      "execution_count": 5,
      "metadata": {
        "id": "eZ7VqbXwPuFS"
      },
      "outputs": [],
      "source": [
        "fish_X = data_fish.drop('Weight', axis= 1)\n",
        "fish_y = data_fish['Weight']"
      ]
    },
    {
      "cell_type": "code",
      "execution_count": 6,
      "metadata": {
        "id": "TqS84wh6XNT0"
      },
      "outputs": [],
      "source": [
        "eta = 0.1\n",
        "max_iter = 200\n",
        "random_state = 21520523\n",
        "\n",
        "fish_X_train, fish_X_test, fish_y_train, fish_y_test = train_test_split(fish_X, fish_y, test_size = 0.3, random_state = random_state)\n",
        "\n",
        "sc = StandardScaler()\n",
        "fish_X_train = sc.fit_transform(fish_X_train)\n",
        "fish_X_test = sc.transform(fish_X_test)"
      ]
    },
    {
      "cell_type": "markdown",
      "metadata": {
        "id": "vwZNKybr1TG-"
      },
      "source": [
        "**Linear Regression with Gradient Descent**"
      ]
    },
    {
      "cell_type": "code",
      "execution_count": 7,
      "metadata": {
        "id": "gmYl8tiQZLlJ"
      },
      "outputs": [],
      "source": [
        "LinearRegressionGD = LinearRegression_GD(eta = eta, max_iter = max_iter, random_state = random_state)\n",
        "LinearRegressionGD.fit(fish_X_train, fish_y_train)\n",
        "y_pred_GD = LinearRegressionGD.predict(fish_X_test)"
      ]
    },
    {
      "cell_type": "code",
      "execution_count": 8,
      "metadata": {
        "colab": {
          "base_uri": "https://localhost:8080/",
          "height": 295
        },
        "id": "eo5IffqpOGKK",
        "outputId": "fb159cf4-f67f-40bb-a0ff-51e84265a12c"
      },
      "outputs": [
        {
          "data": {
            "image/png": "[encoded data removed]",
            "text/plain": [
              "<Figure size 432x288 with 1 Axes>"
            ]
          },
          "metadata": {
            "needs_background": "light"
          },
          "output_type": "display_data"
        }
      ],
      "source": [
        "plt.plot(range(1, len(LinearRegressionGD.costs) + 1), LinearRegressionGD.costs)\n",
        "plt.xlabel('Epochs')\n",
        "plt.ylabel('Cost')\n",
        "plt.title('Gradient Descent')\n",
        "plt.show()"
      ]
    },
    {
      "cell_type": "markdown",
      "metadata": {
        "id": "BlVacnBTZMGh"
      },
      "source": [
        "**Linear Regression with Normal Equation**"
      ]
    },
    {
      "cell_type": "code",
      "execution_count": 9,
      "metadata": {
        "id": "qSjyIcsRZLvv"
      },
      "outputs": [],
      "source": [
        "LinearRegressionNE = LinearRegression_NE()\n",
        "LinearRegressionNE.fit(fish_X_train, fish_y_train)\n",
        "y_pred_NE = LinearRegressionNE.predict(fish_X_test)"
      ]
    },
    {
      "cell_type": "markdown",
      "metadata": {
        "id": "_qEWDyqI-Rg5"
      },
      "source": [
        "**Compare**"
      ]
    },
    {
      "cell_type": "code",
      "execution_count": 10,
      "metadata": {
        "colab": {
          "base_uri": "https://localhost:8080/"
        },
        "id": "DC7lthb7Sq2e",
        "outputId": "2ee80c67-ac79-4907-c986-32c8402fe51f"
      },
      "outputs": [
        {
          "name": "stdout",
          "output_type": "stream",
          "text": [
            "Linear Regression with Gradient descent - R2 score 0.855588\n",
            "Linear Regression with Normal equation - R2 score 0.848199\n"
          ]
        }
      ],
      "source": [
        "print('Linear Regression with Gradient descent - R2 score',round(R2(fish_y_test, y_pred_GD), 6))\n",
        "print('Linear Regression with Normal equation - R2 score',round(R2(fish_y_test, y_pred_NE), 6))"
      ]
    },
    {
      "cell_type": "markdown",
      "metadata": {
        "id": "lGWM0AT3h_z7"
      },
      "source": [
        "# Insurance Dataset"
      ]
    },
    {
      "cell_type": "markdown",
      "metadata": {
        "id": "t3XRaiasnKeB"
      },
      "source": [
        "💰💰 **Dataset Information (insurance.csv)** 💰💰\n",
        "- age: Age of primary beneficiary\n",
        "- sex: Insurance contractor gender, female / male\n",
        "- bmi: Body mass index, providing an understanding of body, weights that are relatively high or low relative to\n",
        "- children: Number of children covered by health insurance / Number of dependents\n",
        "- smoker: Smoker / Non-smoker\n",
        "- region: The beneficiary's residential area in the US, northeast, southeast, southwest, northwest\n",
        "- charges: Individual medical costs billed by health insurance"
      ]
    },
    {
      "cell_type": "markdown",
      "metadata": {
        "id": "2_B9zbFznKeD"
      },
      "source": [
        "📚📚 **Problem Requirement** 📚📚\n",
        "\n",
        "Use all remaining attributes to estimate the individual medical costs billed by health insurance ('**charges**')\n"
      ]
    },
    {
      "cell_type": "markdown",
      "metadata": {
        "id": "S-SAz8n4nKeE"
      },
      "source": [
        "**Note**: Try to make the Gradient Descent achieving the comparable performance to the Normal Equation model. ✌✌\n",
        "\n",
        "**Hint**💡: Apply (suitable) techniques in the Data Preprocessing tutorial file."
      ]
    },
    {
      "cell_type": "markdown",
      "metadata": {
        "id": "x8zb2Hvd-le-"
      },
      "source": [
        "**Load data & Preprocessing**"
      ]
    },
    {
      "cell_type": "code",
      "execution_count": 11,
      "metadata": {
        "colab": {
          "base_uri": "https://localhost:8080/"
        },
        "id": "yyodxRsfYMJJ",
        "outputId": "bb9a3e9c-b1d1-490b-8a64-5b2adc960e52"
      },
      "outputs": [
        {
          "data": {
            "text/plain": [
              "Series([], dtype: int64)"
            ]
          },
          "execution_count": 11,
          "metadata": {},
          "output_type": "execute_result"
        }
      ],
      "source": [
        "data_insurance = pd.read_csv('./insurance.csv')\n",
        "countNan = data_insurance.isna().sum()\n",
        "null_columns = countNan[countNan > 0]\n",
        "null_columns"
      ]
    },
    {
      "cell_type": "code",
      "execution_count": 12,
      "metadata": {
        "id": "c02kZJKvYyHg"
      },
      "outputs": [],
      "source": [
        "from sklearn.preprocessing import LabelEncoder\n",
        "\n",
        "label_encoder = LabelEncoder()\n",
        "\n",
        "data_insurance['sex'] = label_encoder.fit_transform(data_insurance['sex'])\n",
        "data_insurance['smoker'] = label_encoder.fit_transform(data_insurance['smoker'])"
      ]
    },
    {
      "cell_type": "code",
      "execution_count": 13,
      "metadata": {
        "colab": {
          "base_uri": "https://localhost:8080/"
        },
        "id": "aVILaXBvZ0nQ",
        "outputId": "cd56e9cb-7ad3-4f13-cf9b-fb9e27ddf257"
      },
      "outputs": [
        {
          "name": "stderr",
          "output_type": "stream",
          "text": [
            "c:\\Users\\ADMIN\\anaconda3\\lib\\site-packages\\sklearn\\utils\\deprecation.py:87: FutureWarning: Function get_feature_names is deprecated; get_feature_names is deprecated in 1.0 and will be removed in 1.2. Please use get_feature_names_out instead.\n",
            "  warnings.warn(msg, category=FutureWarning)\n"
          ]
        }
      ],
      "source": [
        "from sklearn.preprocessing import OneHotEncoder\n",
        "\n",
        "encoder = OneHotEncoder(sparse=False)\n",
        "\n",
        "region = encoder.fit_transform(np.array(data_insurance['region']).reshape(-1,1))\n",
        "new = pd.DataFrame(region, columns = encoder.get_feature_names(['region']) )\n",
        "data_insurance = pd.concat([data_insurance.drop('region', axis = 1), new], axis=1)"
      ]
    },
    {
      "cell_type": "code",
      "execution_count": 14,
      "metadata": {
        "id": "3Iee1kCqlyF-"
      },
      "outputs": [],
      "source": [
        "insurance_X = data_insurance.drop('charges', axis = 1)\n",
        "insurance_y = data_insurance['charges']"
      ]
    },
    {
      "cell_type": "code",
      "execution_count": 15,
      "metadata": {
        "id": "WMDvtmQrnQ-X"
      },
      "outputs": [],
      "source": [
        "eta = 0.1\n",
        "max_iter = 200\n",
        "random_state = 21520523\n",
        "\n",
        "insurance_X_train, insurance_X_test, insurance_y_train, insurance_y_test = train_test_split(insurance_X, insurance_y, test_size = 0.3, random_state = random_state)\n",
        "\n",
        "sc = StandardScaler()\n",
        "insurance_X_train = sc.fit_transform(insurance_X_train)\n",
        "insurance_X_test = sc.fit_transform(insurance_X_test)"
      ]
    },
    {
      "cell_type": "markdown",
      "metadata": {
        "id": "7_gRLz3B-2hI"
      },
      "source": [
        "**Linear regression with Gradient descent**"
      ]
    },
    {
      "cell_type": "code",
      "execution_count": 16,
      "metadata": {
        "id": "bEP3Z-eAntOL"
      },
      "outputs": [],
      "source": [
        "LinearRegressionGD = LinearRegression_GD(eta = eta, max_iter = max_iter, random_state = random_state)\n",
        "LinearRegressionGD.fit(insurance_X_train, insurance_y_train)\n",
        "y_pred_GD = LinearRegressionGD.predict(insurance_X_test)"
      ]
    },
    {
      "cell_type": "code",
      "execution_count": 17,
      "metadata": {
        "colab": {
          "base_uri": "https://localhost:8080/",
          "height": 295
        },
        "id": "J8gfWXtXn31B",
        "outputId": "922d369c-aae4-47ee-994f-e4ee5666e6d6"
      },
      "outputs": [
        {
          "data": {
            "image/png": "[encoded data removed]",
            "text/plain": [
              "<Figure size 432x288 with 1 Axes>"
            ]
          },
          "metadata": {
            "needs_background": "light"
          },
          "output_type": "display_data"
        }
      ],
      "source": [
        "plt.plot(range(1, len(LinearRegressionGD.costs) + 1), LinearRegressionGD.costs)\n",
        "plt.xlabel('Epochs')\n",
        "plt.ylabel('Cost')\n",
        "plt.title('Gradient Descent')\n",
        "plt.show()"
      ]
    },
    {
      "cell_type": "markdown",
      "metadata": {
        "id": "_HYE-G8h-_Hy"
      },
      "source": [
        "**Linear regression with Normal Equation**"
      ]
    },
    {
      "cell_type": "code",
      "execution_count": 18,
      "metadata": {
        "id": "rKXWil6Xn9w0"
      },
      "outputs": [],
      "source": [
        "LinearRegressionNE = LinearRegression_NE()\n",
        "LinearRegressionNE.fit(insurance_X_train, insurance_y_train)\n",
        "y_pred_NE = LinearRegressionNE.predict(insurance_X_test)"
      ]
    },
    {
      "cell_type": "markdown",
      "metadata": {
        "id": "K1QhWGAQ_Gqv"
      },
      "source": [
        "**Compare**"
      ]
    },
    {
      "cell_type": "code",
      "execution_count": 19,
      "metadata": {
        "colab": {
          "base_uri": "https://localhost:8080/"
        },
        "id": "qKWbXqD5oGaW",
        "outputId": "5b86c6e3-5352-4e6a-ba79-e7abbd20dc17"
      },
      "outputs": [
        {
          "name": "stdout",
          "output_type": "stream",
          "text": [
            "Linear Regression with Gradient descent - R2 score 0.739156\n",
            "Linear Regression with Normal equation - R2 score 0.739761\n"
          ]
        }
      ],
      "source": [
        "print('Linear Regression with Gradient descent - R2 score',round(R2(insurance_y_test, y_pred_GD), 6))\n",
        "print('Linear Regression with Normal equation - R2 score',round(R2(insurance_y_test, y_pred_NE), 6))"
      ]
    },
    {
      "cell_type": "markdown",
      "metadata": {
        "id": "ymYJad2ch5Yt"
      },
      "source": [
        "# Tesla Stock Dataset"
      ]
    },
    {
      "cell_type": "markdown",
      "metadata": {
        "id": "vLkcaH7Hpyhv"
      },
      "source": [
        "📈📈 **Dataset Information (tesla_stock.csv)** 📈📈\n",
        "- Open: The opening price of the stock\n",
        "- High: The high price of that day\n",
        "- Low: The low price of that day\n",
        "- Close: The closed price of that day\n",
        "- Volume: The amount of stocks traded during that day"
      ]
    },
    {
      "cell_type": "markdown",
      "metadata": {
        "id": "k9q59HmEpyhv"
      },
      "source": [
        "📚📚 **Problem Requirement** 📚📚\n",
        "\n",
        "Use all remaining attributes to predict the closing price of tesla stock ('**Close**')\n"
      ]
    },
    {
      "cell_type": "markdown",
      "metadata": {
        "id": "jcQmt-VJpyhv"
      },
      "source": [
        "**Note**: Try to make the Gradient Descent achieving the comparable performance to the Normal Equation model. ✌✌\n",
        "\n",
        "**Hint**💡: Apply (suitable) techniques in the Data Preprocessing tutorial file."
      ]
    },
    {
      "cell_type": "markdown",
      "metadata": {
        "id": "vvrriebZ_mia"
      },
      "source": [
        "**Load data & Preprocessing**"
      ]
    },
    {
      "cell_type": "code",
      "execution_count": 20,
      "metadata": {
        "colab": {
          "base_uri": "https://localhost:8080/"
        },
        "id": "ydtu8mmKCGL9",
        "outputId": "17be8f81-c903-4525-dce2-3b4d02da9256"
      },
      "outputs": [
        {
          "data": {
            "text/plain": [
              "Series([], dtype: int64)"
            ]
          },
          "execution_count": 20,
          "metadata": {},
          "output_type": "execute_result"
        }
      ],
      "source": [
        "data_tesla = pd.read_csv('./tesla_stock.csv')\n",
        "countNan = data_tesla.isna().sum()\n",
        "null_columns = countNan[countNan > 0]\n",
        "null_columns"
      ]
    },
    {
      "cell_type": "code",
      "execution_count": 21,
      "metadata": {
        "id": "2rdGNtfzCoJl"
      },
      "outputs": [],
      "source": [
        "tesla_X = data_tesla.drop(['Close'], axis = 1)\n",
        "tesla_y = data_tesla['Close']"
      ]
    },
    {
      "cell_type": "code",
      "execution_count": 22,
      "metadata": {
        "id": "IiYKcaNoC-qt"
      },
      "outputs": [],
      "source": [
        "eta = 0.1\n",
        "max_iter = 200\n",
        "random_state = 21520523\n",
        "\n",
        "tesla_X_train, tesla_X_test, tesla_y_train, tesla_y_test = train_test_split(tesla_X, tesla_y, test_size = 0.3, random_state = random_state)\n",
        "\n",
        "sc = StandardScaler()\n",
        "tesla_X_train = sc.fit_transform(tesla_X_train)\n",
        "tesla_X_test = sc.fit_transform(tesla_X_test)"
      ]
    },
    {
      "cell_type": "markdown",
      "metadata": {
        "id": "lkRZK4fs_x8n"
      },
      "source": [
        "**Linear regression with Gradient Descent**"
      ]
    },
    {
      "cell_type": "code",
      "execution_count": 23,
      "metadata": {
        "id": "4_3kNMxvFaH0"
      },
      "outputs": [],
      "source": [
        "LinearRegressionGD = LinearRegression_GD(eta = eta, max_iter = max_iter, random_state = random_state)\n",
        "LinearRegressionGD.fit(tesla_X_train, tesla_y_train)\n",
        "y_pred_GD = LinearRegressionGD.predict(tesla_X_test)"
      ]
    },
    {
      "cell_type": "code",
      "execution_count": 24,
      "metadata": {
        "colab": {
          "base_uri": "https://localhost:8080/",
          "height": 295
        },
        "id": "avDnXDnOFaH0",
        "outputId": "228c2d4c-0f41-4950-bbf9-e10f6dfab339"
      },
      "outputs": [
        {
          "data": {
            "image/png": "[encoded data removed]",
            "text/plain": [
              "<Figure size 432x288 with 1 Axes>"
            ]
          },
          "metadata": {
            "needs_background": "light"
          },
          "output_type": "display_data"
        }
      ],
      "source": [
        "plt.plot(range(1, len(LinearRegressionGD.costs)+1), LinearRegressionGD.costs)\n",
        "plt.xlabel('Epochs')\n",
        "plt.ylabel('Cost')\n",
        "plt.title('Gradient Descent')\n",
        "plt.show()"
      ]
    },
    {
      "cell_type": "markdown",
      "metadata": {
        "id": "ee6mQt9PAFNA"
      },
      "source": [
        "**Linear regression with Normal Equation**"
      ]
    },
    {
      "cell_type": "code",
      "execution_count": 25,
      "metadata": {
        "id": "D66JVjAJsZIm"
      },
      "outputs": [],
      "source": [
        "LinearRegressionNE = LinearRegression_NE()\n",
        "LinearRegressionNE.fit(tesla_X_train, tesla_y_train)\n",
        "y_pred_NE = LinearRegressionNE.predict(tesla_X_test)"
      ]
    },
    {
      "cell_type": "markdown",
      "metadata": {
        "id": "SwbmmTCLAKBM"
      },
      "source": [
        "**Compare**"
      ]
    },
    {
      "cell_type": "code",
      "execution_count": 26,
      "metadata": {
        "colab": {
          "base_uri": "https://localhost:8080/"
        },
        "id": "TOmbkpCgFaH0",
        "outputId": "b024c91d-7971-48f9-c69c-63c13329be52"
      },
      "outputs": [
        {
          "name": "stdout",
          "output_type": "stream",
          "text": [
            "Linear Regression with Gradient descent - R2 score 0.997184\n",
            "Linear Regression with Normal equation - R2 score 0.998309\n"
          ]
        }
      ],
      "source": [
        "print('Linear Regression with Gradient descent - R2 score',round(R2(tesla_y_test, y_pred_GD), 6))\n",
        "print('Linear Regression with Normal equation - R2 score',round(R2(tesla_y_test, y_pred_NE), 6))"
      ]
    }
  ],
  "metadata": {
    "colab": {
      "collapsed_sections": [
        "ymYJad2ch5Yt"
      ],
      "provenance": []
    },
    "kernelspec": {
      "display_name": "Python 3.9.12 ('base')",
      "language": "python",
      "name": "python3"
    },
    "language_info": {
      "codemirror_mode": {
        "name": "ipython",
        "version": 3
      },
      "file_extension": ".py",
      "mimetype": "text/x-python",
      "name": "python",
      "nbconvert_exporter": "python",
      "pygments_lexer": "ipython3",
      "version": "3.9.12"
    },
    "vscode": {
      "interpreter": {
        "hash": "2f155fbeb9494e5ce992090b8427abe3542dae7719d8ea0d05cb0b78608edd18"
      }
    }
  },
  "nbformat": 4,
  "nbformat_minor": 0
}
